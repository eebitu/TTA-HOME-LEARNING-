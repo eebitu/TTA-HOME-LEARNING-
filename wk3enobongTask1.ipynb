{
 "metadata": {
  "language_info": {
   "codemirror_mode": {
    "name": "ipython",
    "version": 3
   },
   "file_extension": ".py",
   "mimetype": "text/x-python",
   "name": "python",
   "nbconvert_exporter": "python",
   "pygments_lexer": "ipython3",
   "version": "3.8.5"
  },
  "orig_nbformat": 2,
  "kernelspec": {
   "name": "python385jvsc74a57bd037999b74eaffee7aac9e48cce1d07f7fcdf63dbe94bac4ef21a2588cdd878fd0",
   "display_name": "Python 3.8.5 64-bit ('base': conda)"
  }
 },
 "nbformat": 4,
 "nbformat_minor": 2,
 "cells": [
  {
   "cell_type": "code",
   "execution_count": 1,
   "metadata": {},
   "outputs": [],
   "source": [
    "## Week 3(Assignment 1)\n"
   ]
  },
  {
   "cell_type": "code",
   "execution_count": 1,
   "metadata": {},
   "outputs": [],
   "source": [
    "#Task 1)Write a program that allows you to enter 4 numbers and stores them in a file called “Numbers”\n",
    "#writing a file\n",
    "num_file = open(\"Numbers.txt\", \"w\")\n",
    "for i in range(4):\n",
    "    num_file.write(str(i))\n",
    "    num_file.write(\"\\n\")\n",
    "\n",
    "num_file.close()"
   ]
  },
  {
   "cell_type": "code",
   "execution_count": 8,
   "metadata": {},
   "outputs": [
    {
     "output_type": "stream",
     "name": "stdout",
     "text": [
      "0,1,2,3,\n"
     ]
    }
   ],
   "source": [
    "#reading a file\n",
    "with open(\"Numbers.txt\", \"r\") as num_file:\n",
    "    num = num_file.read().replace('\\n', ',')\n",
    "\n",
    "print(num)\n"
   ]
  },
  {
   "cell_type": "code",
   "execution_count": 9,
   "metadata": {},
   "outputs": [],
   "source": [
    "#appending to a file\n",
    "num_file_a = open(\"Numbers.txt\", \"a\")\n",
    "num_file_a.write(\"Are my numbers okay?\")\n",
    "num_file_a.close()\n",
    "\n"
   ]
  },
  {
   "cell_type": "code",
   "execution_count": 21,
   "metadata": {},
   "outputs": [
    {
     "output_type": "stream",
     "name": "stdout",
     "text": [
      "F\nAda scored 55 % in Mathematics\n"
     ]
    }
   ],
   "source": [
    "#Task 2\n",
    "#Write a program to ask a student for their percentage mark and convert this to a grade.\n",
    "#The conversion will be done in a function called mark_grade\n",
    "\n",
    "student_name = str(input('Enter students name:'))\n",
    "percentage_mark = int(float(input(\"What mark did you score in Mathematics?? \")))\n",
    "\n",
    "def mark_grade():\n",
    "    if percentage_mark >= 100 and percentage_mark <= 70:\n",
    "        return \"A\"\n",
    "    if percentage_mark >= 70 and percentage_mark <= 60:\n",
    "        return \"B\"\n",
    "    if percentage_mark >= 60 and percentage_mark <= 50:\n",
    "        return \"C\"\n",
    "    return \"F\"\n",
    "\n",
    "print(mark_grade())\n",
    "print(student_name, \"scored\", percentage_mark,'%',\"in Mathematics\")"
   ]
  },
  {
   "cell_type": "code",
   "execution_count": null,
   "metadata": {},
   "outputs": [],
   "source": [
    "#• Ask the user for their target grade and print this with their mark\n",
    "#• If their target grade > exam grade display a suitable message\n",
    "#• If their target grade = exam grade display a suitable message\n",
    "#• If their target grade < exam grade display a suitable message\n"
   ]
  }
 ]
}