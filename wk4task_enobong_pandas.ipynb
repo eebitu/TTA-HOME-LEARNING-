{
 "metadata": {
  "language_info": {
   "codemirror_mode": {
    "name": "ipython",
    "version": 3
   },
   "file_extension": ".py",
   "mimetype": "text/x-python",
   "name": "python",
   "nbconvert_exporter": "python",
   "pygments_lexer": "ipython3",
   "version": "3.8.5"
  },
  "orig_nbformat": 2,
  "kernelspec": {
   "name": "python385jvsc74a57bd037999b74eaffee7aac9e48cce1d07f7fcdf63dbe94bac4ef21a2588cdd878fd0",
   "display_name": "Python 3.8.5 64-bit ('base': conda)"
  }
 },
 "nbformat": 4,
 "nbformat_minor": 2,
 "cells": [
  {
   "cell_type": "code",
   "execution_count": 17,
   "metadata": {},
   "outputs": [],
   "source": [
    "import pandas as pd"
   ]
  },
  {
   "cell_type": "code",
   "execution_count": 18,
   "metadata": {},
   "outputs": [
    {
     "output_type": "stream",
     "name": "stdout",
     "text": [
      "     Destinations  Feedback_10  Star_rating  Inclusive_hotels Most_visited\n0          Greece          8.0          4.0                10        Thens\n1          Turkey          7.0          3.0                11        Izmir\n2         Denmark          6.0          3.0                21       Aarhus\n3           Italy          7.0          3.5                 9         Rome\n4   Dominican_Rep          5.5          3.0                12     Barahona\n5        Thailand          5.0          4.0                13       Bankok\n6           Spain          4.0          4.5                16    Barcelona\n7        Maldives          5.0          3.0                 8         Male\n8        Barbados          5.0          2.0                15   Bridgetown\n9         Jamaica          3.0          2.5                 7     Kingston\n10       St_Lucia          2.0          2.0                 6     Canaries\n11        Bermuda          2.5          2.5                 4     Hamilton\n12      Mauritius          4.0          3.0                15      Bambous\n13     Seychelles          6.0          3.0                 4     Victoria\n14            UAE          9.0          5.0                 7        Dubai\n"
     ]
    }
   ],
   "source": [
    "#read holiday data from csv file\n",
    "holdata = pd.read_csv(\"destinations.csv\")\n",
    "#print holdata\n",
    "print(holdata)"
   ]
  },
  {
   "cell_type": "code",
   "execution_count": 21,
   "metadata": {},
   "outputs": [
    {
     "output_type": "execute_result",
     "data": {
      "text/plain": [
       "(15, 5)"
      ]
     },
     "metadata": {},
     "execution_count": 21
    }
   ],
   "source": [
    "#1. How many rows and columns are there in your file?\n",
    "holdata.shape\n",
    "\n",
    "#there are 15 rows an 5 columns in the csv file"
   ]
  },
  {
   "cell_type": "code",
   "execution_count": 22,
   "metadata": {},
   "outputs": [
    {
     "output_type": "stream",
     "name": "stdout",
     "text": [
      "    Destinations  Feedback_10  Star_rating  Inclusive_hotels Most_visited\n2        Denmark          6.0          3.0                21       Aarhus\n3          Italy          7.0          3.5                 9         Rome\n4  Dominican_Rep          5.5          3.0                12     Barahona\n5       Thailand          5.0          4.0                13       Bankok\n6          Spain          4.0          4.5                16    Barcelona\n7       Maldives          5.0          3.0                 8         Male\n"
     ]
    }
   ],
   "source": [
    "#2. Print row 3-8 ( using iloc/loc).\n",
    "print(holdata.iloc[2:8,0:5])"
   ]
  },
  {
   "cell_type": "code",
   "execution_count": 23,
   "metadata": {},
   "outputs": [
    {
     "output_type": "execute_result",
     "data": {
      "text/plain": [
       "10.533333333333333"
      ]
     },
     "metadata": {},
     "execution_count": 23
    }
   ],
   "source": [
    "#3. Find the mean number of all-inclusive hotels across all destinations.\n",
    "holdata[\"Inclusive_hotels\"].mean()"
   ]
  },
  {
   "cell_type": "code",
   "execution_count": 24,
   "metadata": {},
   "outputs": [
    {
     "output_type": "execute_result",
     "data": {
      "text/plain": [
       "   Destinations  Feedback_10  Star_rating  Inclusive_hotels Most_visited\n",
       "10     St_Lucia          2.0          2.0                 6     Canaries"
      ],
      "text/html": "<div>\n<style scoped>\n    .dataframe tbody tr th:only-of-type {\n        vertical-align: middle;\n    }\n\n    .dataframe tbody tr th {\n        vertical-align: top;\n    }\n\n    .dataframe thead th {\n        text-align: right;\n    }\n</style>\n<table border=\"1\" class=\"dataframe\">\n  <thead>\n    <tr style=\"text-align: right;\">\n      <th></th>\n      <th>Destinations</th>\n      <th>Feedback_10</th>\n      <th>Star_rating</th>\n      <th>Inclusive_hotels</th>\n      <th>Most_visited</th>\n    </tr>\n  </thead>\n  <tbody>\n    <tr>\n      <th>10</th>\n      <td>St_Lucia</td>\n      <td>2.0</td>\n      <td>2.0</td>\n      <td>6</td>\n      <td>Canaries</td>\n    </tr>\n  </tbody>\n</table>\n</div>"
     },
     "metadata": {},
     "execution_count": 24
    }
   ],
   "source": [
    "#4. Find the lowest scoring destination.\n",
    "holdata.nsmallest(1, 'Feedback_10')"
   ]
  },
  {
   "cell_type": "code",
   "execution_count": 25,
   "metadata": {},
   "outputs": [
    {
     "output_type": "execute_result",
     "data": {
      "text/plain": [
       "   Destinations  Feedback_10  Star_rating  Inclusive_hotels Most_visited\n",
       "14          UAE          9.0          5.0                 7        Dubai"
      ],
      "text/html": "<div>\n<style scoped>\n    .dataframe tbody tr th:only-of-type {\n        vertical-align: middle;\n    }\n\n    .dataframe tbody tr th {\n        vertical-align: top;\n    }\n\n    .dataframe thead th {\n        text-align: right;\n    }\n</style>\n<table border=\"1\" class=\"dataframe\">\n  <thead>\n    <tr style=\"text-align: right;\">\n      <th></th>\n      <th>Destinations</th>\n      <th>Feedback_10</th>\n      <th>Star_rating</th>\n      <th>Inclusive_hotels</th>\n      <th>Most_visited</th>\n    </tr>\n  </thead>\n  <tbody>\n    <tr>\n      <th>14</th>\n      <td>UAE</td>\n      <td>9.0</td>\n      <td>5.0</td>\n      <td>7</td>\n      <td>Dubai</td>\n    </tr>\n  </tbody>\n</table>\n</div>"
     },
     "metadata": {},
     "execution_count": 25
    }
   ],
   "source": [
    "#5. Find the highest scoring destination.\n",
    "holdata.nlargest(1, 'Feedback_10')"
   ]
  },
  {
   "cell_type": "code",
   "execution_count": 27,
   "metadata": {},
   "outputs": [
    {
     "output_type": "execute_result",
     "data": {
      "text/plain": [
       "<bound method NDFrame.head of 0      True\n",
       "1      True\n",
       "2      True\n",
       "3     False\n",
       "4      True\n",
       "5      True\n",
       "6      True\n",
       "7     False\n",
       "8      True\n",
       "9     False\n",
       "10    False\n",
       "11    False\n",
       "12     True\n",
       "13    False\n",
       "14    False\n",
       "Name: Inclusive_hotels, dtype: bool>"
      ]
     },
     "metadata": {},
     "execution_count": 27
    }
   ],
   "source": [
    "#6. Find all the destinations where there are more than 9 all-inclusive hotels. \n",
    "filter_incl = holdata[\"Inclusive_hotels\"] > 9\n",
    "\n",
    "#show rows that meet the condition\n",
    "filter_incl.head\n"
   ]
  },
  {
   "cell_type": "code",
   "execution_count": 29,
   "metadata": {},
   "outputs": [
    {
     "output_type": "execute_result",
     "data": {
      "text/plain": [
       "    Destinations  Feedback_10  Star_rating  Inclusive_hotels Most_visited\n",
       "0         Greece          8.0          4.0                10        Thens\n",
       "1         Turkey          7.0          3.0                11        Izmir\n",
       "2        Denmark          6.0          3.0                21       Aarhus\n",
       "4  Dominican_Rep          5.5          3.0                12     Barahona\n",
       "5       Thailand          5.0          4.0                13       Bankok"
      ],
      "text/html": "<div>\n<style scoped>\n    .dataframe tbody tr th:only-of-type {\n        vertical-align: middle;\n    }\n\n    .dataframe tbody tr th {\n        vertical-align: top;\n    }\n\n    .dataframe thead th {\n        text-align: right;\n    }\n</style>\n<table border=\"1\" class=\"dataframe\">\n  <thead>\n    <tr style=\"text-align: right;\">\n      <th></th>\n      <th>Destinations</th>\n      <th>Feedback_10</th>\n      <th>Star_rating</th>\n      <th>Inclusive_hotels</th>\n      <th>Most_visited</th>\n    </tr>\n  </thead>\n  <tbody>\n    <tr>\n      <th>0</th>\n      <td>Greece</td>\n      <td>8.0</td>\n      <td>4.0</td>\n      <td>10</td>\n      <td>Thens</td>\n    </tr>\n    <tr>\n      <th>1</th>\n      <td>Turkey</td>\n      <td>7.0</td>\n      <td>3.0</td>\n      <td>11</td>\n      <td>Izmir</td>\n    </tr>\n    <tr>\n      <th>2</th>\n      <td>Denmark</td>\n      <td>6.0</td>\n      <td>3.0</td>\n      <td>21</td>\n      <td>Aarhus</td>\n    </tr>\n    <tr>\n      <th>4</th>\n      <td>Dominican_Rep</td>\n      <td>5.5</td>\n      <td>3.0</td>\n      <td>12</td>\n      <td>Barahona</td>\n    </tr>\n    <tr>\n      <th>5</th>\n      <td>Thailand</td>\n      <td>5.0</td>\n      <td>4.0</td>\n      <td>13</td>\n      <td>Bankok</td>\n    </tr>\n  </tbody>\n</table>\n</div>"
     },
     "metadata": {},
     "execution_count": 29
    }
   ],
   "source": [
    "Greater_9 = holdata[filter_incl]\n",
    "\n",
    "Greater_9.head()"
   ]
  },
  {
   "cell_type": "code",
   "execution_count": 30,
   "metadata": {},
   "outputs": [
    {
     "output_type": "execute_result",
     "data": {
      "text/plain": [
       "<bound method NDFrame.head of 0     False\n",
       "1     False\n",
       "2     False\n",
       "3     False\n",
       "4     False\n",
       "5     False\n",
       "6     False\n",
       "7     False\n",
       "8     False\n",
       "9     False\n",
       "10    False\n",
       "11    False\n",
       "12    False\n",
       "13    False\n",
       "14     True\n",
       "Name: Feedback_10, dtype: bool>"
      ]
     },
     "metadata": {},
     "execution_count": 30
    }
   ],
   "source": [
    "#7. Filter the data by score above 8.\n",
    "filter_score = holdata[\"Feedback_10\"] > 8\n",
    "\n",
    "#show rows that meet the condition\n",
    "filter_score.head\n"
   ]
  },
  {
   "cell_type": "code",
   "execution_count": 31,
   "metadata": {},
   "outputs": [
    {
     "output_type": "execute_result",
     "data": {
      "text/plain": [
       "   Destinations  Feedback_10  Star_rating  Inclusive_hotels Most_visited\n",
       "14          UAE          9.0          5.0                 7        Dubai"
      ],
      "text/html": "<div>\n<style scoped>\n    .dataframe tbody tr th:only-of-type {\n        vertical-align: middle;\n    }\n\n    .dataframe tbody tr th {\n        vertical-align: top;\n    }\n\n    .dataframe thead th {\n        text-align: right;\n    }\n</style>\n<table border=\"1\" class=\"dataframe\">\n  <thead>\n    <tr style=\"text-align: right;\">\n      <th></th>\n      <th>Destinations</th>\n      <th>Feedback_10</th>\n      <th>Star_rating</th>\n      <th>Inclusive_hotels</th>\n      <th>Most_visited</th>\n    </tr>\n  </thead>\n  <tbody>\n    <tr>\n      <th>14</th>\n      <td>UAE</td>\n      <td>9.0</td>\n      <td>5.0</td>\n      <td>7</td>\n      <td>Dubai</td>\n    </tr>\n  </tbody>\n</table>\n</div>"
     },
     "metadata": {},
     "execution_count": 31
    }
   ],
   "source": [
    "Greater_8 = holdata[filter_score]\n",
    "\n",
    "Greater_8.head()"
   ]
  },
  {
   "cell_type": "code",
   "execution_count": 32,
   "metadata": {},
   "outputs": [
    {
     "output_type": "execute_result",
     "data": {
      "text/plain": [
       "<bound method NDFrame.head of 0     False\n",
       "1     False\n",
       "2     False\n",
       "3     False\n",
       "4     False\n",
       "5     False\n",
       "6     False\n",
       "7     False\n",
       "8     False\n",
       "9     False\n",
       "10    False\n",
       "11    False\n",
       "12    False\n",
       "13    False\n",
       "14    False\n",
       "Name: Feedback_10, dtype: bool>"
      ]
     },
     "metadata": {},
     "execution_count": 32
    }
   ],
   "source": [
    "#8. Filter the data score below 2 ( I need to know if these destinations should be removed or there is a problem) \n",
    "filter_score2 = holdata[\"Feedback_10\"] < 2\n",
    "\n",
    "#show rows that meet the condition\n",
    "filter_score2.head\n",
    "\n",
    "#From the result below, there is no data score below 2 as all the score are 2 and above. Since there are nodestinations with scores below 2, no action is taken. "
   ]
  },
  {
   "cell_type": "code",
   "execution_count": 37,
   "metadata": {},
   "outputs": [
    {
     "output_type": "execute_result",
     "data": {
      "text/plain": [
       "0.10287889029443405"
      ]
     },
     "metadata": {},
     "execution_count": 37
    }
   ],
   "source": [
    "#9. Is there a correlation between number of all-inclusive hotels and score?\n",
    "\n",
    "column_1 = holdata[\"Inclusive_hotels\"]\n",
    "column_2 = holdata[\"Feedback_10\"]\n",
    "correlation = column_1.corr(column_2)\n",
    "correlation\n",
    "\n",
    "#the correlation between number of all-inclusive hotels and score is 0.10287889029443405"
   ]
  },
  {
   "cell_type": "code",
   "execution_count": 43,
   "metadata": {},
   "outputs": [
    {
     "output_type": "execute_result",
     "data": {
      "text/plain": [
       "   Destinations  Feedback_10  Star_rating  Inclusive_hotels Most_visited\n",
       "14          UAE          9.0          5.0                 7        Dubai\n",
       "0        Greece          8.0          4.0                10        Thens\n",
       "1        Turkey          7.0          3.0                11        Izmir\n",
       "3         Italy          7.0          3.5                 9         Rome\n",
       "2       Denmark          6.0          3.0                21       Aarhus"
      ],
      "text/html": "<div>\n<style scoped>\n    .dataframe tbody tr th:only-of-type {\n        vertical-align: middle;\n    }\n\n    .dataframe tbody tr th {\n        vertical-align: top;\n    }\n\n    .dataframe thead th {\n        text-align: right;\n    }\n</style>\n<table border=\"1\" class=\"dataframe\">\n  <thead>\n    <tr style=\"text-align: right;\">\n      <th></th>\n      <th>Destinations</th>\n      <th>Feedback_10</th>\n      <th>Star_rating</th>\n      <th>Inclusive_hotels</th>\n      <th>Most_visited</th>\n    </tr>\n  </thead>\n  <tbody>\n    <tr>\n      <th>14</th>\n      <td>UAE</td>\n      <td>9.0</td>\n      <td>5.0</td>\n      <td>7</td>\n      <td>Dubai</td>\n    </tr>\n    <tr>\n      <th>0</th>\n      <td>Greece</td>\n      <td>8.0</td>\n      <td>4.0</td>\n      <td>10</td>\n      <td>Thens</td>\n    </tr>\n    <tr>\n      <th>1</th>\n      <td>Turkey</td>\n      <td>7.0</td>\n      <td>3.0</td>\n      <td>11</td>\n      <td>Izmir</td>\n    </tr>\n    <tr>\n      <th>3</th>\n      <td>Italy</td>\n      <td>7.0</td>\n      <td>3.5</td>\n      <td>9</td>\n      <td>Rome</td>\n    </tr>\n    <tr>\n      <th>2</th>\n      <td>Denmark</td>\n      <td>6.0</td>\n      <td>3.0</td>\n      <td>21</td>\n      <td>Aarhus</td>\n    </tr>\n  </tbody>\n</table>\n</div>"
     },
     "metadata": {},
     "execution_count": 43
    }
   ],
   "source": [
    "#10. Create a data visualisation diagram to show destination and highest scores?\n",
    "high = holdata.nlargest(5, 'Feedback_10')\n",
    "high"
   ]
  },
  {
   "cell_type": "code",
   "execution_count": null,
   "metadata": {},
   "outputs": [],
   "source": []
  }
 ]
}