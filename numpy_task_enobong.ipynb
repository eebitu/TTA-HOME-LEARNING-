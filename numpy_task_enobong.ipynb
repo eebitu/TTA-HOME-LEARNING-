{
 "metadata": {
  "language_info": {
   "codemirror_mode": {
    "name": "ipython",
    "version": 3
   },
   "file_extension": ".py",
   "mimetype": "text/x-python",
   "name": "python",
   "nbconvert_exporter": "python",
   "pygments_lexer": "ipython3",
   "version": "3.8.5"
  },
  "orig_nbformat": 2,
  "kernelspec": {
   "name": "python385jvsc74a57bd037999b74eaffee7aac9e48cce1d07f7fcdf63dbe94bac4ef21a2588cdd878fd0",
   "display_name": "Python 3.8.5 64-bit ('base': conda)"
  }
 },
 "nbformat": 4,
 "nbformat_minor": 2,
 "cells": [
  {
   "cell_type": "code",
   "execution_count": 2,
   "metadata": {},
   "outputs": [],
   "source": [
    "import numpy as np"
   ]
  },
  {
   "cell_type": "code",
   "execution_count": 3,
   "metadata": {},
   "outputs": [
    {
     "output_type": "stream",
     "name": "stdout",
     "text": [
      "[0 1 2 3 4 5 6 7 8 9]\n"
     ]
    }
   ],
   "source": [
    "#1. Create a 1D array of numbers from 0 to 9\n",
    "my_1d = np.array([0, 1, 2, 3, 4, 5, 6, 7, 8, 9])\n",
    "\n",
    "print(my_1d)"
   ]
  },
  {
   "cell_type": "code",
   "execution_count": 4,
   "metadata": {},
   "outputs": [
    {
     "output_type": "execute_result",
     "data": {
      "text/plain": [
       "array([[ True,  True,  True],\n",
       "       [ True,  True,  True],\n",
       "       [ True,  True,  True]])"
      ]
     },
     "metadata": {},
     "execution_count": 4
    }
   ],
   "source": [
    "#2. Create a 3×3 NumPy array of all Boolean value Trues\n",
    "np.ones((3, 3), dtype=bool)"
   ]
  },
  {
   "cell_type": "code",
   "execution_count": 5,
   "metadata": {},
   "outputs": [
    {
     "output_type": "stream",
     "name": "stdout",
     "text": [
      "[1 3 5 7 9]\n"
     ]
    }
   ],
   "source": [
    "#3. Extract all odd numbers from array of 1-10\n",
    "slice = np.array([1,2,3,4,5,6,7,8,9,10]) \n",
    "# slices from 1 to 8 in increments of 1\n",
    "print(slice[0:10:2])"
   ]
  },
  {
   "cell_type": "code",
   "execution_count": 9,
   "metadata": {},
   "outputs": [
    {
     "output_type": "stream",
     "name": "stdout",
     "text": [
      "[-1  2 -1  4 -1  6 -1  8 -1 10]\n"
     ]
    }
   ],
   "source": [
    "#4. Replace all odd numbers in an array of 1-10 with the value -1\n",
    "eny_array = np.array([1, 2, 3, 4, 5, 6, 7, 8, 9, 10])\n",
    "odd_values = (eny_array%2 == 1) \n",
    "eny_array[odd_values] = -1 \n",
    "\n",
    "print(eny_array)"
   ]
  },
  {
   "cell_type": "code",
   "execution_count": 11,
   "metadata": {},
   "outputs": [
    {
     "output_type": "stream",
     "name": "stdout",
     "text": [
      "[[1 2]\n [3 4]\n [5 6]]\n"
     ]
    }
   ],
   "source": [
    "#5. Convert a 1D array to a 2D array with 2 rows\n",
    "a1d = np.array([1,2,3,4,5,6])\n",
    "a2d = np.reshape(a1d, (-1, 2))\n",
    "\n",
    "print(a2d)\n"
   ]
  },
  {
   "cell_type": "code",
   "execution_count": 17,
   "metadata": {},
   "outputs": [
    {
     "output_type": "stream",
     "name": "stdout",
     "text": [
      "[[2085 2148 2211]\n [2382 2454 2526]\n [2679 2760 2841]]\n"
     ]
    }
   ],
   "source": [
    "#6. Create two arrays a and b, stack these two arrays vertically use the np.dot and np.sum to calculate totals\n",
    "a = np.arange(20,29).reshape(3,3)\n",
    "b = np.arange(30,39).reshape(3,3)\n",
    "c = np.dot(a, b)\n",
    "\n",
    "total_sum = np.sum(c)\n",
    "print(c)"
   ]
  },
  {
   "cell_type": "code",
   "execution_count": 19,
   "metadata": {},
   "outputs": [
    {
     "output_type": "stream",
     "name": "stdout",
     "text": [
      "22086\n"
     ]
    }
   ],
   "source": [
    "sum = np.sum(c)\n",
    "print(sum)"
   ]
  },
  {
   "cell_type": "code",
   "execution_count": null,
   "metadata": {},
   "outputs": [],
   "source": [
    "## Extension:\n",
    "#1. Create the following pattern without hardcoding. Use only NumPy functions.\n",
    "\n"
   ]
  },
  {
   "cell_type": "code",
   "execution_count": null,
   "metadata": {},
   "outputs": [],
   "source": [
    "#2. In two arrays a ( 1,2,3,4,5) and b ( 4,5,6,7,8,9) – remove all repeating items present in array b\n"
   ]
  },
  {
   "cell_type": "code",
   "execution_count": null,
   "metadata": {},
   "outputs": [],
   "source": [
    "#3. Get all items between 3 and 7 from a and b and sum themtogether"
   ]
  }
 ]
}