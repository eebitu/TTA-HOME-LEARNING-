{
 "metadata": {
  "language_info": {
   "codemirror_mode": {
    "name": "ipython",
    "version": 3
   },
   "file_extension": ".py",
   "mimetype": "text/x-python",
   "name": "python",
   "nbconvert_exporter": "python",
   "pygments_lexer": "ipython3",
   "version": "3.8.5"
  },
  "orig_nbformat": 2,
  "kernelspec": {
   "name": "python385jvsc74a57bd037999b74eaffee7aac9e48cce1d07f7fcdf63dbe94bac4ef21a2588cdd878fd0",
   "display_name": "Python 3.8.5 64-bit ('base': conda)"
  }
 },
 "nbformat": 4,
 "nbformat_minor": 2,
 "cells": [
  {
   "cell_type": "code",
   "execution_count": 26,
   "metadata": {},
   "outputs": [
    {
     "output_type": "stream",
     "name": "stdout",
     "text": [
      "Tulips\n"
     ]
    }
   ],
   "source": [
    "#(1)ask for a primary colour \n",
    "#convert to string\n",
    "colour =str(input(\"Choose a primary colour\"))\n",
    "\n",
    "if colour == \"Red\":\n",
    "    print(\"Blood\")\n",
    "elif colour == \"Blue\":\n",
    "    print(\"Skies\")\n",
    "elif colour == \"Yellow\":\n",
    "    print(\"Tulips\")\n",
    "else:\n",
    "    print(\"You do not know your primary colours\")\n",
    "\n"
   ]
  },
  {
   "cell_type": "code",
   "execution_count": 18,
   "metadata": {},
   "outputs": [],
   "source": [
    "#(2) As an extension to the motorbike task that costs £2000 and loses 10% of its value every year. Set up a function that performs the calculation by passing in parameters. Then using a loop, print the value of the bike every following year until it falls below £1000.\r\n",
    "\r\n",
    "#specify the first year\r\n",
    "def first_cal(first_year,first_cost):\r\n",
    "    valuepercentage = 0.9\r\n",
    "\r\n",
    "    while first_cost >= 1000:\r\n",
    "        first_cost *=0.9\r\n",
    "        first_year +=1\r\n",
    "        print(\"In year\",first_year,\"the value of the motorbike is\", \"%.2f\" % first_cost, \"at a deprication rate of 10% per year\")\r\n"
   ]
  },
  {
   "cell_type": "code",
   "execution_count": 19,
   "metadata": {},
   "outputs": [],
   "source": [
    "#defining the function variables\n",
    "year = 2010\n",
    "cost = 2000\n"
   ]
  },
  {
   "cell_type": "code",
   "execution_count": 20,
   "metadata": {},
   "outputs": [
    {
     "output_type": "stream",
     "name": "stdout",
     "text": [
      "In year 2011 the value of the motorbike is 1800.00 at a deprication rate of 10% per year\nIn year 2012 the value of the motorbike is 1620.00 at a deprication rate of 10% per year\nIn year 2013 the value of the motorbike is 1458.00 at a deprication rate of 10% per year\nIn year 2014 the value of the motorbike is 1312.20 at a deprication rate of 10% per year\nIn year 2015 the value of the motorbike is 1180.98 at a deprication rate of 10% per year\nIn year 2016 the value of the motorbike is 1062.88 at a deprication rate of 10% per year\nIn year 2017 the value of the motorbike is 956.59 at a deprication rate of 10% per year\n"
     ]
    }
   ],
   "source": [
    "#print the value of the bike every following year until it falls below £1000.\n",
    "first_cal(first_year=year, first_cost=cost)"
   ]
  },
  {
   "cell_type": "code",
   "execution_count": 3,
   "metadata": {},
   "outputs": [],
   "source": [
    "#(3) Write a program which will ask for two numbers from a user. Then offer an option menu to the user giving them a choice of maths operators. Once the user has selected which operator they wish to use, perform the calculation by using a procedure and passing parameters.\n",
    "\n",
    "#ask the user for two numbers\n",
    "number1 = int(input(\"Enter the first number\")) \n",
    "number2 = int(input(\"Enter the second number\")) \n",
    "\n",
    "#operation menu\n",
    "oprt = input(\"Pick a math operator (+,-, /, *, **)\") "
   ]
  },
  {
   "cell_type": "code",
   "execution_count": 11,
   "metadata": {},
   "outputs": [
    {
     "output_type": "stream",
     "name": "stdout",
     "text": [
      "6\n"
     ]
    }
   ],
   "source": [
    "def addnumber(number1, number2):\n",
    "    answer = number1 + number2\n",
    "    print(answer)\n",
    "\n",
    "number1 = int(input(\"Enter the first number\")) \n",
    "number2 = int(input(\"Enter the second number\")) \n",
    "addnumber(number1, number2)\n"
   ]
  },
  {
   "cell_type": "code",
   "execution_count": null,
   "metadata": {},
   "outputs": [],
   "source": []
  }
 ]
}